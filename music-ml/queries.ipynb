{
 "cells": [
  {
   "cell_type": "code",
   "execution_count": 18,
   "id": "fcbd2b27",
   "metadata": {},
   "outputs": [],
   "source": [
    "import pandas as pd\n",
    "import numpy\n",
    "\n",
    "df = pd.read_csv('./data/vgsales.csv')"
   ]
  },
  {
   "cell_type": "code",
   "execution_count": null,
   "id": "b6a398b0",
   "metadata": {},
   "outputs": [],
   "source": [
    "df.query(\"Platform == 'NES'\")"
   ]
  },
  {
   "cell_type": "code",
   "execution_count": 28,
   "id": "4beda92f",
   "metadata": {},
   "outputs": [
    {
     "data": {
      "text/plain": [
       "1291.0199999999018"
      ]
     },
     "execution_count": 28,
     "metadata": {},
     "output_type": "execute_result"
    }
   ],
   "source": [
    "sum(df.JP_Sales)"
   ]
  },
  {
   "cell_type": "code",
   "execution_count": 17,
   "id": "8fa5fe2e",
   "metadata": {},
   "outputs": [
    {
     "data": {
      "text/plain": [
       "8004"
      ]
     },
     "execution_count": 17,
     "metadata": {},
     "output_type": "execute_result"
    }
   ],
   "source": [
    "len(df.query(\"Year >= 2008\").index)"
   ]
  },
  {
   "cell_type": "code",
   "execution_count": 32,
   "id": "d6f36a1d",
   "metadata": {},
   "outputs": [
    {
     "data": {
      "text/plain": [
       "7.982889504759609"
      ]
     },
     "execution_count": 32,
     "metadata": {},
     "output_type": "execute_result"
    }
   ],
   "source": [
    "(len(df.query(\"Platform == 'Wii'\").index) / len(df.index)) * 100"
   ]
  }
 ],
 "metadata": {
  "kernelspec": {
   "display_name": "music-ml-venv",
   "language": "python",
   "name": "python3"
  },
  "language_info": {
   "codemirror_mode": {
    "name": "ipython",
    "version": 3
   },
   "file_extension": ".py",
   "mimetype": "text/x-python",
   "name": "python",
   "nbconvert_exporter": "python",
   "pygments_lexer": "ipython3",
   "version": "3.11.0 (main, Oct 24 2022, 18:26:48) [MSC v.1933 64 bit (AMD64)]"
  },
  "vscode": {
   "interpreter": {
    "hash": "9ebec876eb173e93d621ecfd30a156e4b3396c2c08f147c0ffb379f1905c787e"
   }
  }
 },
 "nbformat": 4,
 "nbformat_minor": 5
}
